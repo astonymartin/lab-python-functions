{
 "cells": [
  {
   "cell_type": "markdown",
   "id": "25d7736c-ba17-4aff-b6bb-66eba20fbf4e",
   "metadata": {},
   "source": [
    "# Lab | Functions"
   ]
  },
  {
   "cell_type": "markdown",
   "id": "0c581062-8967-4d93-b06e-62833222f930",
   "metadata": {
    "tags": []
   },
   "source": [
    "## Exercise: Managing Customer Orders with Functions\n",
    "\n",
    "In the previous exercise, you improved the code for managing customer orders by using loops and flow control. Now, let's take it a step further and refactor the code by introducing functions.\n",
    "\n",
    "Follow the steps below to complete the exercise:\n",
    "\n",
    "1. Define a function named `initialize_inventory` that takes `products` as a parameter. Inside the function, implement the code for initializing the inventory dictionary using a loop and user input.\n",
    "\n",
    "2. Define a function named `get_customer_orders` that takes no parameters. Inside the function, implement the code for prompting the user to enter the product names using a loop. The function should return the `customer_orders` set.\n",
    "\n",
    "3. Define a function named `update_inventory` that takes `customer_orders` and `inventory` as parameters. Inside the function, implement the code for updating the inventory dictionary based on the customer orders.\n",
    "\n",
    "4. Define a function named `calculate_order_statistics` that takes `customer_orders` and `products` as parameters. Inside the function, implement the code for calculating the order statistics (total products ordered, and percentage of unique products ordered). The function should return these values.\n",
    "\n",
    "5. Define a function named `print_order_statistics` that takes `order_statistics` as a parameter. Inside the function, implement the code for printing the order statistics.\n",
    "\n",
    "6. Define a function named `print_updated_inventory` that takes `inventory` as a parameter. Inside the function, implement the code for printing the updated inventory.\n",
    "\n",
    "7. Call the functions in the appropriate sequence to execute the program and manage customer orders.\n",
    "\n",
    "Hints for functions:\n",
    "\n",
    "- Consider the input parameters required for each function and their return values.\n",
    "- Utilize function parameters and return values to transfer data between functions.\n",
    "- Test your functions individually to ensure they work correctly.\n",
    "\n",
    "\n"
   ]
  },
  {
   "cell_type": "code",
   "execution_count": null,
   "id": "b7b6c105",
   "metadata": {},
   "outputs": [],
   "source": [
    "products = [\"t-shirt\", \"mug\", \"hat\", \"book\", \"keychain\"]\n",
    "inventory = {}\n",
    "for product in products:\n",
    "    inventory[product] = int(input(\"que cantidad de \" + product + \" hay disponible: \"))"
   ]
  },
  {
   "cell_type": "code",
   "execution_count": null,
   "id": "6b4c8666",
   "metadata": {},
   "outputs": [],
   "source": [
    "products = [\"t-shirt\", \"mug\", \"hat\", \"book\", \"keychain\"]"
   ]
  },
  {
   "cell_type": "code",
   "execution_count": null,
   "id": "d24be902",
   "metadata": {},
   "outputs": [],
   "source": [
    "def initialize_inventory(products):\n",
    "    inventory = {}\n",
    "    for product in products:\n",
    "        inventory[product] = int(input(\"que cantidad de \" + product + \" hay disponible: \"))\n",
    "    return inventory"
   ]
  },
  {
   "cell_type": "code",
   "execution_count": null,
   "id": "126e7897",
   "metadata": {},
   "outputs": [],
   "source": [
    "inventory = initialize_inventory(products)"
   ]
  },
  {
   "cell_type": "code",
   "execution_count": null,
   "id": "e78065e9",
   "metadata": {},
   "outputs": [],
   "source": [
    "def get_costumer_orders():\n",
    "    costumer_orders = []    \n",
    "    for i in range(sum(inventory.values())):\n",
    "        pedido = input('Elige un producto: ')\n",
    "        if pedido in products:\n",
    "            costumer_orders.append(pedido)\n",
    "        repe1 = input('¿Otra cosa?\"si\" o \"no\"')\n",
    "        if repe1 == 'no':\n",
    "            break\n",
    "    return (costumer_orders)"
   ]
  },
  {
   "cell_type": "code",
   "execution_count": null,
   "id": "236905d8",
   "metadata": {},
   "outputs": [],
   "source": [
    "orders = get_costumer_orders()"
   ]
  },
  {
   "cell_type": "code",
   "execution_count": null,
   "id": "7fc0bfbd",
   "metadata": {},
   "outputs": [],
   "source": [
    "orders"
   ]
  },
  {
   "cell_type": "code",
   "execution_count": null,
   "id": "3935df51",
   "metadata": {},
   "outputs": [],
   "source": [
    "costumer_orders_set = set(orders)\n",
    "print(costumer_orders_set)"
   ]
  },
  {
   "cell_type": "code",
   "execution_count": null,
   "id": "0c33c39f",
   "metadata": {},
   "outputs": [],
   "source": [
    "def update_inventory(inventory, orders):\n",
    "    for order in orders:\n",
    "        if order in inventory:\n",
    "            inventory[order] -= 1\n",
    "    return inventory\n",
    "\n",
    "\n",
    "inventory_actualizado = update_inventory(inventory, orders)\n",
    "print(inventory_actualizado)\n"
   ]
  },
  {
   "cell_type": "code",
   "execution_count": null,
   "id": "20b0a346",
   "metadata": {},
   "outputs": [],
   "source": [
    "def calculate_order_statistics(orders, inventory):\n",
    "    total_products_ordered = len(orders)\n",
    "    unique_products_ordered = {}\n",
    "    contador_1 = 0\n",
    "    contador_2 = 0\n",
    "    contador_3 = 0\n",
    "    contador_4 = 0\n",
    "    contador_5 = 0\n",
    "    for order in orders:\n",
    "        if order == 't-shirt':\n",
    "            contador_1 += 1\n",
    "            unique_products_ordered['t-shirt'] = contador_1\n",
    "        elif order == 'mug':\n",
    "            contador_2 += 1\n",
    "            unique_products_ordered['mug'] = contador_2 \n",
    "        elif order == 'hat':\n",
    "            contador_3 += 1\n",
    "            unique_products_ordered['hat'] = contador_3\n",
    "        elif order == 'book':\n",
    "            contador_4 += 1\n",
    "            unique_products_ordered['book'] = contador_4\n",
    "        elif order == 'keychain':\n",
    "            contador_5 += 1\n",
    "            unique_products_ordered['keychain'] = contador_5\n",
    "    porcentaje_raro = {}\n",
    "    for key, value in unique_products_ordered.items():\n",
    "        if key in inventory:\n",
    "            porcentaje_raro[key] = f\"{int(unique_products_ordered[key] / inventory[key] * 100)} %\"\n",
    "    return(porcentaje_raro, total_products_ordered)\n",
    "calculate_order_statistics(orders, inventory)\n"
   ]
  },
  {
   "cell_type": "code",
   "execution_count": null,
   "id": "6a5f001b",
   "metadata": {},
   "outputs": [],
   "source": [
    "order_statistics = calculate_order_statistics(orders, inventory)\n",
    "print(order_statistics)"
   ]
  },
  {
   "cell_type": "code",
   "execution_count": null,
   "id": "9f891ec4",
   "metadata": {},
   "outputs": [],
   "source": [
    "def print_order_statistics(order_statistics):\n",
    "    print(order_statistics)\n",
    "print_order_statistics(order_statistics)"
   ]
  },
  {
   "cell_type": "code",
   "execution_count": null,
   "id": "ea5ce13a",
   "metadata": {},
   "outputs": [],
   "source": [
    "def print_updated_inventory(inventory):\n",
    "    print(inventory_actualizado)\n",
    "print_updated_inventory(inventory)"
   ]
  },
  {
   "cell_type": "code",
   "execution_count": null,
   "id": "18857df8",
   "metadata": {},
   "outputs": [],
   "source": []
  },
  {
   "cell_type": "code",
   "execution_count": null,
   "id": "e28dd336",
   "metadata": {},
   "outputs": [],
   "source": []
  },
  {
   "cell_type": "code",
   "execution_count": null,
   "id": "79b96341",
   "metadata": {},
   "outputs": [],
   "source": []
  }
 ],
 "metadata": {
  "kernelspec": {
   "display_name": "Python 3 (ipykernel)",
   "language": "python",
   "name": "python3"
  },
  "language_info": {
   "codemirror_mode": {
    "name": "ipython",
    "version": 3
   },
   "file_extension": ".py",
   "mimetype": "text/x-python",
   "name": "python",
   "nbconvert_exporter": "python",
   "pygments_lexer": "ipython3",
   "version": "3.11.5"
  }
 },
 "nbformat": 4,
 "nbformat_minor": 5
}
